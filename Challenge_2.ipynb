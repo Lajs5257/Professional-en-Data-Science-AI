{
  "nbformat": 4,
  "nbformat_minor": 0,
  "metadata": {
    "colab": {
      "provenance": [],
      "include_colab_link": true
    },
    "kernelspec": {
      "name": "python3",
      "display_name": "Python 3"
    },
    "language_info": {
      "name": "python"
    }
  },
  "cells": [
    {
      "cell_type": "markdown",
      "metadata": {
        "id": "view-in-github",
        "colab_type": "text"
      },
      "source": [
        "<a href=\"https://colab.research.google.com/github/Lajs5257/Professional-en-Data-Science-AI/blob/main/Challenge_2.ipynb\" target=\"_parent\"><img src=\"https://colab.research.google.com/assets/colab-badge.svg\" alt=\"Open In Colab\"/></a>"
      ]
    },
    {
      "cell_type": "markdown",
      "source": [
        "# Challenge (2/8): Datos abiertos del Instituto Nacional de Estadística y Geografía (INEGI)\n",
        "\n",
        "¡Bien hecho, Dani! En el reto anterior aprendista mucho. Lograste:\n",
        "1. Identificar una fuente de datos y consultarla.\n",
        "2. Acceder a los datos descargados y hacer una breve exploración sobre ellos.\n",
        "3. Formular algunas preguntas.\n",
        "4. Planear cómo se verá tu dashboard.\n",
        "\n",
        "Ahora nos toca comenzar a hacer algo de análisis exploratorio, comencemos con algunas gráficas para datos numéricos.\n",
        "\n",
        "IMPORTANTE: Toma en cuenta las preguntas que planteaste en el reto anterior. Las variables numéricas involucradas en esas preguntas deberían ser exploradas en este reto con las gráficas propuestas."
      ],
      "metadata": {
        "id": "9F9WgW1TkcFc"
      }
    },
    {
      "cell_type": "markdown",
      "source": [
        "## 1. Gráficas de distribución\n",
        "\n",
        "Gráficas sugeridas:\n",
        "- Histograma\n",
        "- Distribución de densidad"
      ],
      "metadata": {
        "id": "VUTdJ7huJKM2"
      }
    },
    {
      "cell_type": "markdown",
      "source": [
        "Completa las siguientes tareas:\n",
        "1. Selecciona las variables numéricas que consideres relevantes para tus preguntas del primer reto.\n",
        "2. Construye una gráfica de distribución por cada una de ellas. Recuerda ajustar el número de \"cortes\" (bins) para observar mejor los valores relevantes en la distribución (solo histogramas).\n",
        "3. Utiliza el atributo \"hue\" para que cada histograma represente alguna variable categórica de tu elección.\n",
        "4. Utiliza el atributo \"col\" para generar subplots que representen subconjuntos de datos por categoría."
      ],
      "metadata": {
        "id": "fc1m_4sIOLAk"
      }
    },
    {
      "cell_type": "code",
      "source": [],
      "metadata": {
        "id": "o47XGOPK8qG-"
      },
      "execution_count": null,
      "outputs": []
    },
    {
      "cell_type": "markdown",
      "source": [
        "## 2. Gráficas de dispersión\n",
        "\n",
        "- Scatter plot\n",
        "- Pairplot\n",
        "- Displot en su modalidad tipo heatmap"
      ],
      "metadata": {
        "id": "qN4EJ1jNCe4t"
      }
    },
    {
      "cell_type": "code",
      "source": [],
      "metadata": {
        "id": "3jylcNMuNQnK"
      },
      "execution_count": null,
      "outputs": []
    },
    {
      "cell_type": "markdown",
      "source": [
        "## 3. Serie de tiempo\n",
        "\n",
        "Una serie de tiempo no es más que el cambio de una variable numérica a través de una variable temporal. Ya que cuentas con ambas, construyamos una de estas series."
      ],
      "metadata": {
        "id": "mRmXhdmSOYbc"
      }
    },
    {
      "cell_type": "markdown",
      "source": [
        "Completa las siguientes tareas:\n",
        "- Construye una serie de tiempo haciendo uso de la columna de fechas de tu conjunto de datos y alguna de las variables numéricas de tu interés.\n",
        "- Realiza tantas series como creas conveniente para responder tus preguntas y saciar tu curiosidad 😉"
      ],
      "metadata": {
        "id": "Bo_NzlRI9tlS"
      }
    },
    {
      "cell_type": "code",
      "source": [],
      "metadata": {
        "id": "R5kol12YLUmP"
      },
      "execution_count": null,
      "outputs": []
    }
  ]
}