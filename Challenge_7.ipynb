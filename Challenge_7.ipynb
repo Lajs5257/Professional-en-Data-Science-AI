{
  "nbformat": 4,
  "nbformat_minor": 0,
  "metadata": {
    "colab": {
      "provenance": [],
      "include_colab_link": true
    },
    "kernelspec": {
      "name": "python3",
      "display_name": "Python 3"
    },
    "language_info": {
      "name": "python"
    }
  },
  "cells": [
    {
      "cell_type": "markdown",
      "metadata": {
        "id": "view-in-github",
        "colab_type": "text"
      },
      "source": [
        "<a href=\"https://colab.research.google.com/github/Lajs5257/Professional-en-Data-Science-AI/blob/main/Challenge_7.ipynb\" target=\"_parent\"><img src=\"https://colab.research.google.com/assets/colab-badge.svg\" alt=\"Open In Colab\"/></a>"
      ]
    },
    {
      "cell_type": "markdown",
      "source": [
        "# Challenge (7/8): Datos abiertos del Instituto Nacional de Estadística y Geografía (INEGI)\n",
        "\n",
        "Dani, ya estás a nada de terminar, un último esfuerzo y podrás presentarte a esa entrevista mostrando este trabajo en el que has puesto tanto esfuerzo.\n",
        "\n",
        "Has implementado una de las funcionalidades más importantes de Dash para añadir toda la interactividad posible a tu tablero.\n",
        "\n",
        "Pero antes de continuar, permíteme hacer una recapitulación de lo que aprendiste en el reto anterior:\n",
        "1. Añadir controles para filtrar tus datos y actualizar las gráficas correspondientes con base en lo seleccionado.\n",
        "2. Permitir que un conjunto de controles utilicen el mismo callback para actualizar un conjunto de gráficas.\n",
        "\n",
        "Siguiendo la dinámica del reto anterior, vamos a revisar más particularidades de los callbacks."
      ],
      "metadata": {
        "id": "9F9WgW1TkcFc"
      }
    },
    {
      "cell_type": "markdown",
      "source": [
        "## 1. Callbacks (Parte 2)\n",
        "En la clase hoy, vimos algunas capas más de complejidad en los callbacks, para lograr tareas como:\n",
        "* Implementar callbacks con múltiples salidas\n",
        "* Encadenar callbacks para que la salida de uno sea la entrada de otro.\n",
        "* Utilizar múltiples callbacks para actualizar nuestras gráficas con base en un evento en común.\n",
        "\n",
        "Como podrás ver, tenemos un catálogo amplio de posibilidades y puede que no todas apliquen a tu dashboard pero, sin duda, las opciones que hemos visto hoy te habrán dado nuevas ideas para integrar en tu proyecto."
      ],
      "metadata": {
        "id": "VUTdJ7huJKM2"
      }
    },
    {
      "cell_type": "markdown",
      "source": [
        "Completa las siguientes tareas:\n",
        "1. Anota las nuevas ideas que hayan surgido para integrar en tu proyecto. Si aún no se te ha ocurrido alguna, prueba a revisar nuevamente los ejemplos de los notebooks teóricos:\n",
        "* [Notebook de la sesión 6](https://colab.research.google.com/drive/13Bu2Wh6MkB8jCzY6qeevkAQOBbekv1K2?usp=sharing)\n",
        "* [Notebook de la sesión 7](https://colab.research.google.com/drive/12ktsqCB_O3K-v66iK33OoZp3uMpAChxX?usp=sharing)\n",
        "2. De la lista de ideas, piensa cuáles pueden ser resueltas con las nuevas capas de complejidas aprendidas. *Recuerda que no es tan buena idea implementar todo en un solo callback, posiblemente sea mejor dividir en pequeñas porciones de código.*\n",
        "3. Escribe el código para implementar tus nuevas ideas, si es necesario, traslada tus gráficas a Plotly para gozar de todos los beneficios de esta librería.\n",
        "4. (Opcional) Esta tarea se conecta con el Challenge 8/8 de la siguiente clase: Reúne todo el código para tu tablero en un solo archivo de Python (.py) y súbelo a [Github](github.com).\n",
        "*Si no has utilizado nunca Github, no te preocupes, lo veremos la siguiente clase, pero si tienes algo de experiencia, por favor completa esta tarea opcional.*\n"
      ],
      "metadata": {
        "id": "fc1m_4sIOLAk"
      }
    },
    {
      "cell_type": "code",
      "source": [],
      "metadata": {
        "id": "o47XGOPK8qG-"
      },
      "execution_count": null,
      "outputs": []
    }
  ]
}