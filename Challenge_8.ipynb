{
  "nbformat": 4,
  "nbformat_minor": 0,
  "metadata": {
    "colab": {
      "provenance": [],
      "include_colab_link": true
    },
    "kernelspec": {
      "name": "python3",
      "display_name": "Python 3"
    },
    "language_info": {
      "name": "python"
    }
  },
  "cells": [
    {
      "cell_type": "markdown",
      "metadata": {
        "id": "view-in-github",
        "colab_type": "text"
      },
      "source": [
        "<a href=\"https://colab.research.google.com/github/Lajs5257/Professional-en-Data-Science-AI/blob/main/Challenge_8.ipynb\" target=\"_parent\"><img src=\"https://colab.research.google.com/assets/colab-badge.svg\" alt=\"Open In Colab\"/></a>"
      ]
    },
    {
      "cell_type": "markdown",
      "source": [
        "# Challenge (8/8): Datos abiertos del Instituto Nacional de Estadística y Geografía (INEGI)\n",
        "\n",
        "Y aquí estamos, Dani, en la conclusión de este gran viaje. Creando un proyecto del que puedas sentirte muy orgulloso/orgullosa.\n",
        "\n",
        "Has implementado una de las funcionalidades más importantes de Dash para añadir toda la interactividad posible a tu tablero.\n",
        "\n",
        "Pero antes de continuar, permíteme hacer una recapitulación de lo que aprendiste en el reto anterior:\n",
        "1. Añadir controles para filtrar tus datos y actualizar las gráficas correspondientes con base en lo seleccionado.\n",
        "2. Permitir que un conjunto de controles utilicen el mismo callback para actualizar un conjunto de gráficas.\n",
        "\n",
        "Siguiendo la dinámica del reto anterior, vamos a revisar más particularidades de los callbacks."
      ],
      "metadata": {
        "id": "9F9WgW1TkcFc"
      }
    },
    {
      "cell_type": "markdown",
      "source": [
        "## 1. Dashboard deployment\n",
        "\n",
        "En este reto aprenderemos a realizar tareas más allá del colab y del ambiente de desarrollo. Nos centraremos en dominar los siguientes temas:\n",
        "* Control de versiones\n",
        "* Ejecución de código Python en un ambiente sin notebooks\n",
        "* Deployment de una aplicación web"
      ],
      "metadata": {
        "id": "VUTdJ7huJKM2"
      }
    },
    {
      "cell_type": "markdown",
      "source": [
        "Ya estamos listos. Hagamos que todo el mundo pueda ver ese grandioso dashboard 😄 ¡Manos a la obra!\n",
        "\n",
        "Para este reto no ocuparemos Colab para desarrollo. Seguiremos en su lugar, el siguiente [tutorial](https://dash.plotly.com/deployment).\n",
        "\n",
        "¡Buena suerte, Dani! #TodosSomosDani"
      ],
      "metadata": {
        "id": "fc1m_4sIOLAk"
      }
    }
  ]
}