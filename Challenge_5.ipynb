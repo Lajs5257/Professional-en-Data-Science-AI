{
  "nbformat": 4,
  "nbformat_minor": 0,
  "metadata": {
    "colab": {
      "provenance": [],
      "include_colab_link": true
    },
    "kernelspec": {
      "name": "python3",
      "display_name": "Python 3"
    },
    "language_info": {
      "name": "python"
    }
  },
  "cells": [
    {
      "cell_type": "markdown",
      "metadata": {
        "id": "view-in-github",
        "colab_type": "text"
      },
      "source": [
        "<a href=\"https://colab.research.google.com/github/Lajs5257/Professional-en-Data-Science-AI/blob/main/Challenge_5.ipynb\" target=\"_parent\"><img src=\"https://colab.research.google.com/assets/colab-badge.svg\" alt=\"Open In Colab\"/></a>"
      ]
    },
    {
      "cell_type": "markdown",
      "source": [
        "# Challenge (5/8): Datos abiertos del Instituto Nacional de Estadística y Geografía (INEGI)\n",
        "\n",
        "Finalmente, hoy es el día, Dani. ¡Vamos a comenzar con Dash! 📊\n",
        "Hoy comenzamos nuestra travesía hacia la creación del dashboard en si mismo 😃 Continúa dando tu mejor esfuerzo 😉\n",
        "\n",
        "Pero antes de continuar, permíteme hacer una recapitulación de lo que aprendiste en el reto anterior:\n",
        "1. Crear un mapa con los elementos necesarios para responder tus preguntas.\n",
        "2. Leer y graficar mapas a través de archivos ShapeFile.\n",
        "3. Hacer uso de una de las alternativas GIS disponibles para Python.\n",
        "\n",
        "Siguiendo la dinámica del reto anterior, ahora toca comenzar a cosntruir tu tablero."
      ],
      "metadata": {
        "id": "9F9WgW1TkcFc"
      }
    },
    {
      "cell_type": "markdown",
      "source": [
        "## 1. Tablero\n",
        "Aquí comenzarás a construir tu tablero. Primero lo primero, vamos con la estructura (esqueleto) del mismo y luego nos preocuparemos de la funcionalidad."
      ],
      "metadata": {
        "id": "VUTdJ7huJKM2"
      }
    },
    {
      "cell_type": "markdown",
      "source": [
        "Completa las siguientes tareas:\n",
        "1. Construye una aplicación que sea una instancia de Jupyter Dash.\n",
        "2. Añade un elemento html.Div que englobará a todos los demás elementos a añadir en el tablero.\n",
        "3. Dentro del html.Div general añade un título para tu tablero con un componente html.H1 y, si lo requieres, un subtítulo con html.H2\n",
        "4. Agrega al menos dos de las gráficas que has hecho. Luego nos preocuparemos por los estilos y que se vea bien, pero de momento corrobora que funcionen dentro del tablero.\n",
        "5. Introduce también el mapa que generaste en el reto anterior."
      ],
      "metadata": {
        "id": "fc1m_4sIOLAk"
      }
    },
    {
      "cell_type": "code",
      "source": [],
      "metadata": {
        "id": "o47XGOPK8qG-"
      },
      "execution_count": null,
      "outputs": []
    }
  ]
}