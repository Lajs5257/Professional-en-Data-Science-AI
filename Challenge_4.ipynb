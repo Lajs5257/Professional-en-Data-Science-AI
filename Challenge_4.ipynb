{
  "nbformat": 4,
  "nbformat_minor": 0,
  "metadata": {
    "colab": {
      "provenance": [],
      "include_colab_link": true
    },
    "kernelspec": {
      "name": "python3",
      "display_name": "Python 3"
    },
    "language_info": {
      "name": "python"
    }
  },
  "cells": [
    {
      "cell_type": "markdown",
      "metadata": {
        "id": "view-in-github",
        "colab_type": "text"
      },
      "source": [
        "<a href=\"https://colab.research.google.com/github/Lajs5257/Professional-en-Data-Science-AI/blob/main/Challenge_4.ipynb\" target=\"_parent\"><img src=\"https://colab.research.google.com/assets/colab-badge.svg\" alt=\"Open In Colab\"/></a>"
      ]
    },
    {
      "cell_type": "markdown",
      "source": [
        "# Challenge (4/8): Datos abiertos del Instituto Nacional de Estadística y Geografía (INEGI)\n",
        "\n",
        "¡Ya estás a medio camino, Dani! Lo estás haciendo increíble y por eso te tengo una misión importante 😉\n",
        "Hoy vamos a elaborar uno de los elementos más importantes del tablero. ¡Hoy haremos un mapa! 😃 Al final de cuentas, estamos hablando del INEGI. No podríamos llegar a la entrevista sin un mapa ¿Estás de acuerdo? 😅 \n",
        "\n",
        "Pero antes de continuar, permíteme hacer una recapitulación de lo que aprendiste en el reto anterior:\n",
        "1. Comparación entre variables categóricas, tomando en cuenta periodos y/o elementos para desagregar.\n",
        "2. Representar la participación de cada variable categórica en un total a tomar en cuenta\n",
        "\n",
        "Siguiendo la dinámica del reto anterior, ahora toca explorar nuestro archivo Shapefile."
      ],
      "metadata": {
        "id": "9F9WgW1TkcFc"
      }
    },
    {
      "cell_type": "markdown",
      "source": [
        "## 1. Mapas\n",
        "Esta será una de las partes centrales de tu tablero. Piensa en el tipo de mapa base que iría bien con tu tablero."
      ],
      "metadata": {
        "id": "VUTdJ7huJKM2"
      }
    },
    {
      "cell_type": "markdown",
      "source": [
        "Completa las siguientes tareas:\n",
        "1. Identifica si alguna de las preguntas que planteaste en el primer reto pueden explorarse con un mapa. Si no tienes alguna ¡Es buen momento para formularla!\n",
        "2. Explora el archivo Shapefile de INEGI con GeoPandas y ubica la (o las) columna que te ayudaría a responder tu pregunta.\n",
        "3. Utiliza el código visto en clase para crear un mapa y visualizar los datos."
      ],
      "metadata": {
        "id": "fc1m_4sIOLAk"
      }
    },
    {
      "cell_type": "code",
      "source": [],
      "metadata": {
        "id": "o47XGOPK8qG-"
      },
      "execution_count": null,
      "outputs": []
    }
  ]
}