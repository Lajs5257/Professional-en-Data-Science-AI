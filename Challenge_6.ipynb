{
  "nbformat": 4,
  "nbformat_minor": 0,
  "metadata": {
    "colab": {
      "provenance": [],
      "include_colab_link": true
    },
    "kernelspec": {
      "name": "python3",
      "display_name": "Python 3"
    },
    "language_info": {
      "name": "python"
    }
  },
  "cells": [
    {
      "cell_type": "markdown",
      "metadata": {
        "id": "view-in-github",
        "colab_type": "text"
      },
      "source": [
        "<a href=\"https://colab.research.google.com/github/Lajs5257/Professional-en-Data-Science-AI/blob/main/Challenge_6.ipynb\" target=\"_parent\"><img src=\"https://colab.research.google.com/assets/colab-badge.svg\" alt=\"Open In Colab\"/></a>"
      ]
    },
    {
      "cell_type": "markdown",
      "source": [
        "# Challenge (6/8): Datos abiertos del Instituto Nacional de Estadística y Geografía (INEGI)\n",
        "\n",
        "Puedo ver en tu rostro la emoción por haber creado tu primer tablero con Dash, Dani. Estoy muy orgulloso 😊\n",
        "Ya que has dado tus primeros pasos hacia ese soñado tablero, ahora podemos enfocarnos en una de las particularidades más geniales de dash: los callbacks 🤓\n",
        "\n",
        "Pero antes de continuar, permíteme hacer una recapitulación de lo que aprendiste en el reto anterior:\n",
        "1. Crear un tablero básico utilizando Dash.\n",
        "2. Modificaste el layout del dashboard para integrar tus propias gráficas.\n",
        "\n",
        "Siguiendo la dinámica del reto anterior, ahora toca comenzar a añadir funcionalidad a tu tablero.\n",
        "\n",
        "NOTA: Utilizaremos los términos \"tablero\" y \"dashboard\" indistintamente a partir de este punto."
      ],
      "metadata": {
        "id": "9F9WgW1TkcFc"
      }
    },
    {
      "cell_type": "markdown",
      "source": [
        "## 1. Callbacks (Parte 1)\n",
        "En la clase hoy, vimos cómo crear un slider para variables de tiempo y selectores para variables categóricas.\n",
        "Ahora que ya tenemos la estructura de nuestro dashboard, comenzaremos a añadir algunas funcionalidades interesantes."
      ],
      "metadata": {
        "id": "VUTdJ7huJKM2"
      }
    },
    {
      "cell_type": "markdown",
      "source": [
        "Completa las siguientes tareas:\n",
        "1. Reutiliza el código del reto anterior para traer la estructura de tu dashboard a este reto.\n",
        "2. En este ejercicio ya no estamos respondiendo preguntas, sino utilizando controles para filtrar los datos. Piensa en al menos 2 variables categóricas y 1 de tiempo para convertirlas en filtros.\n",
        "*Consejo: si no tienes una columna de fecha, también puedes optar por alguna variable numérica cuyos valores sean discretos.*\n",
        "3. ¿Ya identificaste tu variable de fecha o numérica discreta? ¡Aprovéchala para construir un slider!\n",
        "4. Ahora es turno de las variables categóricas. Elije entre dropdowns, radio buttons o cualquier otro tipo de componente para crear un filtro por cada una de esas variables.\n",
        "\n",
        "Finalmente, observa cómo se filtran los datos cada que muevas el slider hacia un valor diferente, eso te permitirá saber si construiste tus filtros correctamente."
      ],
      "metadata": {
        "id": "fc1m_4sIOLAk"
      }
    },
    {
      "cell_type": "code",
      "source": [],
      "metadata": {
        "id": "o47XGOPK8qG-"
      },
      "execution_count": null,
      "outputs": []
    }
  ]
}